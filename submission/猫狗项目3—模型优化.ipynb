{
 "cells": [
  {
   "cell_type": "markdown",
   "metadata": {},
   "source": [
    "## 模型优化"
   ]
  },
  {
   "cell_type": "code",
   "execution_count": 1,
   "metadata": {},
   "outputs": [
    {
     "name": "stderr",
     "output_type": "stream",
     "text": [
      "/home/kevin/Documents/anaconda3/envs/tf/lib/python3.6/site-packages/h5py/__init__.py:36: FutureWarning: Conversion of the second argument of issubdtype from `float` to `np.floating` is deprecated. In future, it will be treated as `np.float64 == np.dtype(float).type`.\n",
      "  from ._conv import register_converters as _register_converters\n",
      "Using TensorFlow backend.\n",
      "/home/kevin/Documents/anaconda3/envs/tf/lib/python3.6/importlib/_bootstrap.py:205: RuntimeWarning: compiletime version 3.5 of module 'tensorflow.python.framework.fast_tensor_util' does not match runtime version 3.6\n",
      "  return f(*args, **kwds)\n"
     ]
    }
   ],
   "source": [
    "from keras.applications import *\n",
    "from keras.preprocessing import image\n",
    "from keras.layers import Dense, Dropout, Add, Maximum, Average,Concatenate\n",
    "from keras.models import Sequential, Model\n",
    "from keras.callbacks import ModelCheckpoint  \n",
    "from keras import Input\n",
    "from sklearn.utils import shuffle\n",
    "import pandas as pd\n",
    "import h5py\n",
    "import numpy as np"
   ]
  },
  {
   "cell_type": "code",
   "execution_count": 2,
   "metadata": {},
   "outputs": [],
   "source": [
    "def load_gap_feature(model_name):\n",
    "    with h5py.File('gap_{}.h5'.format(model_name),'r') as h:\n",
    "        x_train = np.array(h['train'])\n",
    "        y_train = np.array(h['label_train'])\n",
    "        x_test = np.array(h['test'])\n",
    "    return [x_train, y_train, x_test]"
   ]
  },
  {
   "cell_type": "code",
   "execution_count": 3,
   "metadata": {},
   "outputs": [],
   "source": [
    "# 224x224\n",
    "densenet_feature = load_gap_feature('densenet') #output:1664\n",
    "resnet50_feature = load_gap_feature('resnet50') #output:2048\n",
    "vgg16_feature = load_gap_feature('vgg16') #output:512\n",
    "# 299x299\n",
    "inception_feature = load_gap_feature('inception') #output:2048\n",
    "increstnet_feature = load_gap_feature('inception_resnet') #output:1536\n",
    "xception_feature = load_gap_feature('xception') #2048"
   ]
  },
  {
   "cell_type": "code",
   "execution_count": 4,
   "metadata": {},
   "outputs": [],
   "source": [
    "# 打乱顺序\n",
    "resnet50_feature[0],inception_feature[0],xception_feature[0],densenet_feature[0],vgg16_feature[0],increstnet_feature[0],densenet_feature[1] = shuffle(resnet50_feature[0],inception_feature[0],xception_feature[0],densenet_feature[0],vgg16_feature[0],increstnet_feature[0], densenet_feature[1])"
   ]
  },
  {
   "cell_type": "code",
   "execution_count": 5,
   "metadata": {},
   "outputs": [],
   "source": [
    "def generate_test_prediction(pred, filename):\n",
    "    df = pd.read_csv('prediction/sample_submission.csv')\n",
    "    datagen = image.ImageDataGenerator()\n",
    "    test_generator = datagen.flow_from_directory(\n",
    "                'data/test',\n",
    "                target_size=(224,224),\n",
    "                batch_size=50,\n",
    "                shuffle=False,\n",
    "                class_mode=None)\n",
    "\n",
    "    for i,path in enumerate(test_generator.filenames):\n",
    "        index = int(path[path.rfind('/')+1:path.rfind('.')])\n",
    "        df.set_value(index-1,'label',pred[i])\n",
    "\n",
    "    df.to_csv('./prediction/{}.csv'.format(filename),index=False)"
   ]
  },
  {
   "cell_type": "code",
   "execution_count": 19,
   "metadata": {},
   "outputs": [],
   "source": [
    "# 模型融合\n",
    "input_tensor1 = Input(shape=(2048,))\n",
    "input_tensor2 = Input(shape=(2048,))\n",
    "input_tensor3 = Input(shape=(2048,))\n",
    "input_tensor4 = Input(shape=(1664,))\n",
    "input_tensor5 = Input(shape=(512,))\n",
    "input_tensor6 = Input(shape=(1536,))\n",
    "x = Concatenate(axis=1)([input_tensor1,input_tensor2,input_tensor3,input_tensor4,input_tensor5,input_tensor6])\n",
    "x = Dropout(0.5)(x)\n",
    "x = Dense(128,activation='relu')(x)\n",
    "prediction = Dense(1,activation='sigmoid')(x)\n",
    "\n",
    "model = Model([input_tensor1,input_tensor2,input_tensor3,input_tensor4,input_tensor5,input_tensor6], prediction)\n",
    "\n",
    "model.compile(loss='binary_crossentropy', optimizer='adam', metrics=['accuracy'])"
   ]
  },
  {
   "cell_type": "code",
   "execution_count": 14,
   "metadata": {},
   "outputs": [
    {
     "data": {
      "image/svg+xml": [
       "<svg height=\"387pt\" viewBox=\"0.00 0.00 1748.00 387.00\" width=\"1748pt\" xmlns=\"http://www.w3.org/2000/svg\" xmlns:xlink=\"http://www.w3.org/1999/xlink\">\n",
       "<g class=\"graph\" id=\"graph0\" transform=\"scale(1 1) rotate(0) translate(4 383)\">\n",
       "<title>G</title>\n",
       "<polygon fill=\"white\" points=\"-4,4 -4,-383 1744,-383 1744,4 -4,4\" stroke=\"none\"/>\n",
       "<!-- 140127268053568 -->\n",
       "<g class=\"node\" id=\"node1\"><title>140127268053568</title>\n",
       "<polygon fill=\"none\" points=\"0,-332.5 0,-378.5 276,-378.5 276,-332.5 0,-332.5\" stroke=\"black\"/>\n",
       "<text font-family=\"Times,serif\" font-size=\"14.00\" text-anchor=\"middle\" x=\"66\" y=\"-351.8\">input_13: InputLayer</text>\n",
       "<polyline fill=\"none\" points=\"132,-332.5 132,-378.5 \" stroke=\"black\"/>\n",
       "<text font-family=\"Times,serif\" font-size=\"14.00\" text-anchor=\"middle\" x=\"159.5\" y=\"-363.3\">input:</text>\n",
       "<polyline fill=\"none\" points=\"132,-355.5 187,-355.5 \" stroke=\"black\"/>\n",
       "<text font-family=\"Times,serif\" font-size=\"14.00\" text-anchor=\"middle\" x=\"159.5\" y=\"-340.3\">output:</text>\n",
       "<polyline fill=\"none\" points=\"187,-332.5 187,-378.5 \" stroke=\"black\"/>\n",
       "<text font-family=\"Times,serif\" font-size=\"14.00\" text-anchor=\"middle\" x=\"231.5\" y=\"-363.3\">(None, 2048)</text>\n",
       "<polyline fill=\"none\" points=\"187,-355.5 276,-355.5 \" stroke=\"black\"/>\n",
       "<text font-family=\"Times,serif\" font-size=\"14.00\" text-anchor=\"middle\" x=\"231.5\" y=\"-340.3\">(None, 2048)</text>\n",
       "</g>\n",
       "<!-- 140127268055752 -->\n",
       "<g class=\"node\" id=\"node7\"><title>140127268055752</title>\n",
       "<polygon fill=\"none\" points=\"515,-249.5 515,-295.5 1231,-295.5 1231,-249.5 515,-249.5\" stroke=\"black\"/>\n",
       "<text font-family=\"Times,serif\" font-size=\"14.00\" text-anchor=\"middle\" x=\"599\" y=\"-268.8\">concatenate_3: Concatenate</text>\n",
       "<polyline fill=\"none\" points=\"683,-249.5 683,-295.5 \" stroke=\"black\"/>\n",
       "<text font-family=\"Times,serif\" font-size=\"14.00\" text-anchor=\"middle\" x=\"710.5\" y=\"-280.3\">input:</text>\n",
       "<polyline fill=\"none\" points=\"683,-272.5 738,-272.5 \" stroke=\"black\"/>\n",
       "<text font-family=\"Times,serif\" font-size=\"14.00\" text-anchor=\"middle\" x=\"710.5\" y=\"-257.3\">output:</text>\n",
       "<polyline fill=\"none\" points=\"738,-249.5 738,-295.5 \" stroke=\"black\"/>\n",
       "<text font-family=\"Times,serif\" font-size=\"14.00\" text-anchor=\"middle\" x=\"984.5\" y=\"-280.3\">[(None, 2048), (None, 2048), (None, 2048), (None, 1664), (None, 512), (None, 1536)]</text>\n",
       "<polyline fill=\"none\" points=\"738,-272.5 1231,-272.5 \" stroke=\"black\"/>\n",
       "<text font-family=\"Times,serif\" font-size=\"14.00\" text-anchor=\"middle\" x=\"984.5\" y=\"-257.3\">(None, 9856)</text>\n",
       "</g>\n",
       "<!-- 140127268053568&#45;&gt;140127268055752 -->\n",
       "<g class=\"edge\" id=\"edge1\"><title>140127268053568-&gt;140127268055752</title>\n",
       "<path d=\"M276.076,-333.149C279.077,-332.755 282.054,-332.372 285,-332 391.873,-318.514 509.998,-306.249 612.165,-296.473\" fill=\"none\" stroke=\"black\"/>\n",
       "<polygon fill=\"black\" points=\"612.695,-299.938 622.317,-295.504 612.03,-292.97 612.695,-299.938\" stroke=\"black\"/>\n",
       "</g>\n",
       "<!-- 140127268053512 -->\n",
       "<g class=\"node\" id=\"node2\"><title>140127268053512</title>\n",
       "<polygon fill=\"none\" points=\"294,-332.5 294,-378.5 570,-378.5 570,-332.5 294,-332.5\" stroke=\"black\"/>\n",
       "<text font-family=\"Times,serif\" font-size=\"14.00\" text-anchor=\"middle\" x=\"360\" y=\"-351.8\">input_14: InputLayer</text>\n",
       "<polyline fill=\"none\" points=\"426,-332.5 426,-378.5 \" stroke=\"black\"/>\n",
       "<text font-family=\"Times,serif\" font-size=\"14.00\" text-anchor=\"middle\" x=\"453.5\" y=\"-363.3\">input:</text>\n",
       "<polyline fill=\"none\" points=\"426,-355.5 481,-355.5 \" stroke=\"black\"/>\n",
       "<text font-family=\"Times,serif\" font-size=\"14.00\" text-anchor=\"middle\" x=\"453.5\" y=\"-340.3\">output:</text>\n",
       "<polyline fill=\"none\" points=\"481,-332.5 481,-378.5 \" stroke=\"black\"/>\n",
       "<text font-family=\"Times,serif\" font-size=\"14.00\" text-anchor=\"middle\" x=\"525.5\" y=\"-363.3\">(None, 2048)</text>\n",
       "<polyline fill=\"none\" points=\"481,-355.5 570,-355.5 \" stroke=\"black\"/>\n",
       "<text font-family=\"Times,serif\" font-size=\"14.00\" text-anchor=\"middle\" x=\"525.5\" y=\"-340.3\">(None, 2048)</text>\n",
       "</g>\n",
       "<!-- 140127268053512&#45;&gt;140127268055752 -->\n",
       "<g class=\"edge\" id=\"edge2\"><title>140127268053512-&gt;140127268055752</title>\n",
       "<path d=\"M551.923,-332.473C611.116,-321.601 682.617,-308.468 743.105,-297.358\" fill=\"none\" stroke=\"black\"/>\n",
       "<polygon fill=\"black\" points=\"743.898,-300.771 753.101,-295.522 742.633,-293.886 743.898,-300.771\" stroke=\"black\"/>\n",
       "</g>\n",
       "<!-- 140127268054072 -->\n",
       "<g class=\"node\" id=\"node3\"><title>140127268054072</title>\n",
       "<polygon fill=\"none\" points=\"588,-332.5 588,-378.5 864,-378.5 864,-332.5 588,-332.5\" stroke=\"black\"/>\n",
       "<text font-family=\"Times,serif\" font-size=\"14.00\" text-anchor=\"middle\" x=\"654\" y=\"-351.8\">input_15: InputLayer</text>\n",
       "<polyline fill=\"none\" points=\"720,-332.5 720,-378.5 \" stroke=\"black\"/>\n",
       "<text font-family=\"Times,serif\" font-size=\"14.00\" text-anchor=\"middle\" x=\"747.5\" y=\"-363.3\">input:</text>\n",
       "<polyline fill=\"none\" points=\"720,-355.5 775,-355.5 \" stroke=\"black\"/>\n",
       "<text font-family=\"Times,serif\" font-size=\"14.00\" text-anchor=\"middle\" x=\"747.5\" y=\"-340.3\">output:</text>\n",
       "<polyline fill=\"none\" points=\"775,-332.5 775,-378.5 \" stroke=\"black\"/>\n",
       "<text font-family=\"Times,serif\" font-size=\"14.00\" text-anchor=\"middle\" x=\"819.5\" y=\"-363.3\">(None, 2048)</text>\n",
       "<polyline fill=\"none\" points=\"775,-355.5 864,-355.5 \" stroke=\"black\"/>\n",
       "<text font-family=\"Times,serif\" font-size=\"14.00\" text-anchor=\"middle\" x=\"819.5\" y=\"-340.3\">(None, 2048)</text>\n",
       "</g>\n",
       "<!-- 140127268054072&#45;&gt;140127268055752 -->\n",
       "<g class=\"edge\" id=\"edge3\"><title>140127268054072-&gt;140127268055752</title>\n",
       "<path d=\"M766.168,-332.366C783.993,-322.544 805.137,-310.894 823.891,-300.56\" fill=\"none\" stroke=\"black\"/>\n",
       "<polygon fill=\"black\" points=\"825.811,-303.498 832.88,-295.607 822.433,-297.368 825.811,-303.498\" stroke=\"black\"/>\n",
       "</g>\n",
       "<!-- 140127268054520 -->\n",
       "<g class=\"node\" id=\"node4\"><title>140127268054520</title>\n",
       "<polygon fill=\"none\" points=\"882,-332.5 882,-378.5 1158,-378.5 1158,-332.5 882,-332.5\" stroke=\"black\"/>\n",
       "<text font-family=\"Times,serif\" font-size=\"14.00\" text-anchor=\"middle\" x=\"948\" y=\"-351.8\">input_16: InputLayer</text>\n",
       "<polyline fill=\"none\" points=\"1014,-332.5 1014,-378.5 \" stroke=\"black\"/>\n",
       "<text font-family=\"Times,serif\" font-size=\"14.00\" text-anchor=\"middle\" x=\"1041.5\" y=\"-363.3\">input:</text>\n",
       "<polyline fill=\"none\" points=\"1014,-355.5 1069,-355.5 \" stroke=\"black\"/>\n",
       "<text font-family=\"Times,serif\" font-size=\"14.00\" text-anchor=\"middle\" x=\"1041.5\" y=\"-340.3\">output:</text>\n",
       "<polyline fill=\"none\" points=\"1069,-332.5 1069,-378.5 \" stroke=\"black\"/>\n",
       "<text font-family=\"Times,serif\" font-size=\"14.00\" text-anchor=\"middle\" x=\"1113.5\" y=\"-363.3\">(None, 1664)</text>\n",
       "<polyline fill=\"none\" points=\"1069,-355.5 1158,-355.5 \" stroke=\"black\"/>\n",
       "<text font-family=\"Times,serif\" font-size=\"14.00\" text-anchor=\"middle\" x=\"1113.5\" y=\"-340.3\">(None, 1664)</text>\n",
       "</g>\n",
       "<!-- 140127268054520&#45;&gt;140127268055752 -->\n",
       "<g class=\"edge\" id=\"edge4\"><title>140127268054520-&gt;140127268055752</title>\n",
       "<path d=\"M979.832,-332.366C962.007,-322.544 940.863,-310.894 922.109,-300.56\" fill=\"none\" stroke=\"black\"/>\n",
       "<polygon fill=\"black\" points=\"923.567,-297.368 913.12,-295.607 920.189,-303.498 923.567,-297.368\" stroke=\"black\"/>\n",
       "</g>\n",
       "<!-- 140127268054016 -->\n",
       "<g class=\"node\" id=\"node5\"><title>140127268054016</title>\n",
       "<polygon fill=\"none\" points=\"1176,-332.5 1176,-378.5 1446,-378.5 1446,-332.5 1176,-332.5\" stroke=\"black\"/>\n",
       "<text font-family=\"Times,serif\" font-size=\"14.00\" text-anchor=\"middle\" x=\"1242\" y=\"-351.8\">input_17: InputLayer</text>\n",
       "<polyline fill=\"none\" points=\"1308,-332.5 1308,-378.5 \" stroke=\"black\"/>\n",
       "<text font-family=\"Times,serif\" font-size=\"14.00\" text-anchor=\"middle\" x=\"1335.5\" y=\"-363.3\">input:</text>\n",
       "<polyline fill=\"none\" points=\"1308,-355.5 1363,-355.5 \" stroke=\"black\"/>\n",
       "<text font-family=\"Times,serif\" font-size=\"14.00\" text-anchor=\"middle\" x=\"1335.5\" y=\"-340.3\">output:</text>\n",
       "<polyline fill=\"none\" points=\"1363,-332.5 1363,-378.5 \" stroke=\"black\"/>\n",
       "<text font-family=\"Times,serif\" font-size=\"14.00\" text-anchor=\"middle\" x=\"1404.5\" y=\"-363.3\">(None, 512)</text>\n",
       "<polyline fill=\"none\" points=\"1363,-355.5 1446,-355.5 \" stroke=\"black\"/>\n",
       "<text font-family=\"Times,serif\" font-size=\"14.00\" text-anchor=\"middle\" x=\"1404.5\" y=\"-340.3\">(None, 512)</text>\n",
       "</g>\n",
       "<!-- 140127268054016&#45;&gt;140127268055752 -->\n",
       "<g class=\"edge\" id=\"edge5\"><title>140127268054016-&gt;140127268055752</title>\n",
       "<path d=\"M1191.89,-332.473C1133.1,-321.601 1062.09,-308.468 1002.01,-297.358\" fill=\"none\" stroke=\"black\"/>\n",
       "<polygon fill=\"black\" points=\"1002.55,-293.899 992.083,-295.522 1001.28,-300.782 1002.55,-293.899\" stroke=\"black\"/>\n",
       "</g>\n",
       "<!-- 140127268053680 -->\n",
       "<g class=\"node\" id=\"node6\"><title>140127268053680</title>\n",
       "<polygon fill=\"none\" points=\"1464,-332.5 1464,-378.5 1740,-378.5 1740,-332.5 1464,-332.5\" stroke=\"black\"/>\n",
       "<text font-family=\"Times,serif\" font-size=\"14.00\" text-anchor=\"middle\" x=\"1530\" y=\"-351.8\">input_18: InputLayer</text>\n",
       "<polyline fill=\"none\" points=\"1596,-332.5 1596,-378.5 \" stroke=\"black\"/>\n",
       "<text font-family=\"Times,serif\" font-size=\"14.00\" text-anchor=\"middle\" x=\"1623.5\" y=\"-363.3\">input:</text>\n",
       "<polyline fill=\"none\" points=\"1596,-355.5 1651,-355.5 \" stroke=\"black\"/>\n",
       "<text font-family=\"Times,serif\" font-size=\"14.00\" text-anchor=\"middle\" x=\"1623.5\" y=\"-340.3\">output:</text>\n",
       "<polyline fill=\"none\" points=\"1651,-332.5 1651,-378.5 \" stroke=\"black\"/>\n",
       "<text font-family=\"Times,serif\" font-size=\"14.00\" text-anchor=\"middle\" x=\"1695.5\" y=\"-363.3\">(None, 1536)</text>\n",
       "<polyline fill=\"none\" points=\"1651,-355.5 1740,-355.5 \" stroke=\"black\"/>\n",
       "<text font-family=\"Times,serif\" font-size=\"14.00\" text-anchor=\"middle\" x=\"1695.5\" y=\"-340.3\">(None, 1536)</text>\n",
       "</g>\n",
       "<!-- 140127268053680&#45;&gt;140127268055752 -->\n",
       "<g class=\"edge\" id=\"edge6\"><title>140127268053680-&gt;140127268055752</title>\n",
       "<path d=\"M1463.92,-333.153C1460.92,-332.758 1457.95,-332.373 1455,-332 1348.97,-318.566 1231.75,-306.29 1130.47,-296.491\" fill=\"none\" stroke=\"black\"/>\n",
       "<polygon fill=\"black\" points=\"1130.7,-292.997 1120.41,-295.52 1130.02,-299.964 1130.7,-292.997\" stroke=\"black\"/>\n",
       "</g>\n",
       "<!-- 140127268056200 -->\n",
       "<g class=\"node\" id=\"node8\"><title>140127268056200</title>\n",
       "<polygon fill=\"none\" points=\"738.5,-166.5 738.5,-212.5 1007.5,-212.5 1007.5,-166.5 738.5,-166.5\" stroke=\"black\"/>\n",
       "<text font-family=\"Times,serif\" font-size=\"14.00\" text-anchor=\"middle\" x=\"801\" y=\"-185.8\">dropout_3: Dropout</text>\n",
       "<polyline fill=\"none\" points=\"863.5,-166.5 863.5,-212.5 \" stroke=\"black\"/>\n",
       "<text font-family=\"Times,serif\" font-size=\"14.00\" text-anchor=\"middle\" x=\"891\" y=\"-197.3\">input:</text>\n",
       "<polyline fill=\"none\" points=\"863.5,-189.5 918.5,-189.5 \" stroke=\"black\"/>\n",
       "<text font-family=\"Times,serif\" font-size=\"14.00\" text-anchor=\"middle\" x=\"891\" y=\"-174.3\">output:</text>\n",
       "<polyline fill=\"none\" points=\"918.5,-166.5 918.5,-212.5 \" stroke=\"black\"/>\n",
       "<text font-family=\"Times,serif\" font-size=\"14.00\" text-anchor=\"middle\" x=\"963\" y=\"-197.3\">(None, 9856)</text>\n",
       "<polyline fill=\"none\" points=\"918.5,-189.5 1007.5,-189.5 \" stroke=\"black\"/>\n",
       "<text font-family=\"Times,serif\" font-size=\"14.00\" text-anchor=\"middle\" x=\"963\" y=\"-174.3\">(None, 9856)</text>\n",
       "</g>\n",
       "<!-- 140127268055752&#45;&gt;140127268056200 -->\n",
       "<g class=\"edge\" id=\"edge7\"><title>140127268055752-&gt;140127268056200</title>\n",
       "<path d=\"M873,-249.366C873,-241.152 873,-231.658 873,-222.725\" fill=\"none\" stroke=\"black\"/>\n",
       "<polygon fill=\"black\" points=\"876.5,-222.607 873,-212.607 869.5,-222.607 876.5,-222.607\" stroke=\"black\"/>\n",
       "</g>\n",
       "<!-- 140127268055640 -->\n",
       "<g class=\"node\" id=\"node9\"><title>140127268055640</title>\n",
       "<polygon fill=\"none\" points=\"750,-83.5 750,-129.5 996,-129.5 996,-83.5 750,-83.5\" stroke=\"black\"/>\n",
       "<text font-family=\"Times,serif\" font-size=\"14.00\" text-anchor=\"middle\" x=\"801\" y=\"-102.8\">dense_5: Dense</text>\n",
       "<polyline fill=\"none\" points=\"852,-83.5 852,-129.5 \" stroke=\"black\"/>\n",
       "<text font-family=\"Times,serif\" font-size=\"14.00\" text-anchor=\"middle\" x=\"879.5\" y=\"-114.3\">input:</text>\n",
       "<polyline fill=\"none\" points=\"852,-106.5 907,-106.5 \" stroke=\"black\"/>\n",
       "<text font-family=\"Times,serif\" font-size=\"14.00\" text-anchor=\"middle\" x=\"879.5\" y=\"-91.3\">output:</text>\n",
       "<polyline fill=\"none\" points=\"907,-83.5 907,-129.5 \" stroke=\"black\"/>\n",
       "<text font-family=\"Times,serif\" font-size=\"14.00\" text-anchor=\"middle\" x=\"951.5\" y=\"-114.3\">(None, 9856)</text>\n",
       "<polyline fill=\"none\" points=\"907,-106.5 996,-106.5 \" stroke=\"black\"/>\n",
       "<text font-family=\"Times,serif\" font-size=\"14.00\" text-anchor=\"middle\" x=\"951.5\" y=\"-91.3\">(None, 128)</text>\n",
       "</g>\n",
       "<!-- 140127268056200&#45;&gt;140127268055640 -->\n",
       "<g class=\"edge\" id=\"edge8\"><title>140127268056200-&gt;140127268055640</title>\n",
       "<path d=\"M873,-166.366C873,-158.152 873,-148.658 873,-139.725\" fill=\"none\" stroke=\"black\"/>\n",
       "<polygon fill=\"black\" points=\"876.5,-139.607 873,-129.607 869.5,-139.607 876.5,-139.607\" stroke=\"black\"/>\n",
       "</g>\n",
       "<!-- 140127268056872 -->\n",
       "<g class=\"node\" id=\"node10\"><title>140127268056872</title>\n",
       "<polygon fill=\"none\" points=\"753,-0.5 753,-46.5 993,-46.5 993,-0.5 753,-0.5\" stroke=\"black\"/>\n",
       "<text font-family=\"Times,serif\" font-size=\"14.00\" text-anchor=\"middle\" x=\"804\" y=\"-19.8\">dense_6: Dense</text>\n",
       "<polyline fill=\"none\" points=\"855,-0.5 855,-46.5 \" stroke=\"black\"/>\n",
       "<text font-family=\"Times,serif\" font-size=\"14.00\" text-anchor=\"middle\" x=\"882.5\" y=\"-31.3\">input:</text>\n",
       "<polyline fill=\"none\" points=\"855,-23.5 910,-23.5 \" stroke=\"black\"/>\n",
       "<text font-family=\"Times,serif\" font-size=\"14.00\" text-anchor=\"middle\" x=\"882.5\" y=\"-8.3\">output:</text>\n",
       "<polyline fill=\"none\" points=\"910,-0.5 910,-46.5 \" stroke=\"black\"/>\n",
       "<text font-family=\"Times,serif\" font-size=\"14.00\" text-anchor=\"middle\" x=\"951.5\" y=\"-31.3\">(None, 128)</text>\n",
       "<polyline fill=\"none\" points=\"910,-23.5 993,-23.5 \" stroke=\"black\"/>\n",
       "<text font-family=\"Times,serif\" font-size=\"14.00\" text-anchor=\"middle\" x=\"951.5\" y=\"-8.3\">(None, 1)</text>\n",
       "</g>\n",
       "<!-- 140127268055640&#45;&gt;140127268056872 -->\n",
       "<g class=\"edge\" id=\"edge9\"><title>140127268055640-&gt;140127268056872</title>\n",
       "<path d=\"M873,-83.3664C873,-75.1516 873,-65.6579 873,-56.7252\" fill=\"none\" stroke=\"black\"/>\n",
       "<polygon fill=\"black\" points=\"876.5,-56.6068 873,-46.6068 869.5,-56.6069 876.5,-56.6068\" stroke=\"black\"/>\n",
       "</g>\n",
       "</g>\n",
       "</svg>"
      ],
      "text/plain": [
       "<IPython.core.display.SVG object>"
      ]
     },
     "execution_count": 14,
     "metadata": {},
     "output_type": "execute_result"
    }
   ],
   "source": [
    "from IPython.display import SVG, Image\n",
    "from keras.utils.vis_utils import model_to_dot, plot_model\n",
    "\n",
    "plot_model(model, show_shapes=True, to_file='model.png')\n",
    "SVG(model_to_dot(model, show_shapes=True).create(prog='dot', format='svg'))"
   ]
  },
  {
   "cell_type": "code",
   "execution_count": 21,
   "metadata": {},
   "outputs": [
    {
     "name": "stdout",
     "output_type": "stream",
     "text": [
      "Train on 25845 samples, validate on 6462 samples\n",
      "Epoch 1/20\n",
      "25845/25845 [==============================] - 5s 185us/step - loss: 0.0362 - acc: 0.9899 - val_loss: 0.0228 - val_acc: 0.9930\n",
      "\n",
      "Epoch 00001: val_loss improved from inf to 0.02279, saving model to ./saved_models/weights.best.comb6_model2.hdf5\n",
      "Epoch 2/20\n",
      "25845/25845 [==============================] - 5s 177us/step - loss: 0.0144 - acc: 0.9956 - val_loss: 0.0131 - val_acc: 0.9960\n",
      "\n",
      "Epoch 00002: val_loss improved from 0.02279 to 0.01315, saving model to ./saved_models/weights.best.comb6_model2.hdf5\n",
      "Epoch 3/20\n",
      "25845/25845 [==============================] - 4s 173us/step - loss: 0.0101 - acc: 0.9966 - val_loss: 0.0166 - val_acc: 0.9947\n",
      "\n",
      "Epoch 00003: val_loss did not improve\n",
      "Epoch 4/20\n",
      "25845/25845 [==============================] - 4s 172us/step - loss: 0.0073 - acc: 0.9977 - val_loss: 0.0087 - val_acc: 0.9969\n",
      "\n",
      "Epoch 00004: val_loss improved from 0.01315 to 0.00871, saving model to ./saved_models/weights.best.comb6_model2.hdf5\n",
      "Epoch 5/20\n",
      "25845/25845 [==============================] - 4s 173us/step - loss: 0.0050 - acc: 0.9983 - val_loss: 0.0090 - val_acc: 0.9974\n",
      "\n",
      "Epoch 00005: val_loss did not improve\n",
      "Epoch 6/20\n",
      "25845/25845 [==============================] - 4s 173us/step - loss: 0.0049 - acc: 0.9983 - val_loss: 0.0101 - val_acc: 0.9968\n",
      "\n",
      "Epoch 00006: val_loss did not improve\n",
      "Epoch 7/20\n",
      "25845/25845 [==============================] - 5s 174us/step - loss: 0.0042 - acc: 0.9983 - val_loss: 0.0148 - val_acc: 0.9963\n",
      "\n",
      "Epoch 00007: val_loss did not improve\n",
      "Epoch 8/20\n",
      "25845/25845 [==============================] - 4s 173us/step - loss: 0.0056 - acc: 0.9982 - val_loss: 0.0144 - val_acc: 0.9960\n",
      "\n",
      "Epoch 00008: val_loss did not improve\n",
      "Epoch 9/20\n",
      "25845/25845 [==============================] - 5s 174us/step - loss: 0.0040 - acc: 0.9984 - val_loss: 0.0110 - val_acc: 0.9972\n",
      "\n",
      "Epoch 00009: val_loss did not improve\n",
      "Epoch 10/20\n",
      "25845/25845 [==============================] - 4s 173us/step - loss: 0.0027 - acc: 0.9991 - val_loss: 0.0111 - val_acc: 0.9963\n",
      "\n",
      "Epoch 00010: val_loss did not improve\n",
      "Epoch 11/20\n",
      "25845/25845 [==============================] - 4s 173us/step - loss: 0.0032 - acc: 0.9990 - val_loss: 0.0189 - val_acc: 0.9955\n",
      "\n",
      "Epoch 00011: val_loss did not improve\n",
      "Epoch 12/20\n",
      "25845/25845 [==============================] - 4s 173us/step - loss: 0.0047 - acc: 0.9983 - val_loss: 0.0111 - val_acc: 0.9974\n",
      "\n",
      "Epoch 00012: val_loss did not improve\n",
      "Epoch 13/20\n",
      "25845/25845 [==============================] - 4s 173us/step - loss: 0.0035 - acc: 0.9989 - val_loss: 0.0127 - val_acc: 0.9974\n",
      "\n",
      "Epoch 00013: val_loss did not improve\n",
      "Epoch 14/20\n",
      "25845/25845 [==============================] - 4s 173us/step - loss: 0.0038 - acc: 0.9985 - val_loss: 0.0124 - val_acc: 0.9969\n",
      "\n",
      "Epoch 00014: val_loss did not improve\n",
      "Epoch 15/20\n",
      "25845/25845 [==============================] - 4s 172us/step - loss: 0.0027 - acc: 0.9990 - val_loss: 0.0126 - val_acc: 0.9961\n",
      "\n",
      "Epoch 00015: val_loss did not improve\n",
      "Epoch 16/20\n",
      "25845/25845 [==============================] - 4s 172us/step - loss: 0.0029 - acc: 0.9991 - val_loss: 0.0130 - val_acc: 0.9974\n",
      "\n",
      "Epoch 00016: val_loss did not improve\n",
      "Epoch 17/20\n",
      "25845/25845 [==============================] - 4s 172us/step - loss: 0.0041 - acc: 0.9988 - val_loss: 0.0131 - val_acc: 0.9975\n",
      "\n",
      "Epoch 00017: val_loss did not improve\n",
      "Epoch 18/20\n",
      "25845/25845 [==============================] - 4s 173us/step - loss: 0.0023 - acc: 0.9991 - val_loss: 0.0129 - val_acc: 0.9972\n",
      "\n",
      "Epoch 00018: val_loss did not improve\n",
      "Epoch 19/20\n",
      "25845/25845 [==============================] - 4s 172us/step - loss: 0.0030 - acc: 0.9989 - val_loss: 0.0120 - val_acc: 0.9975\n",
      "\n",
      "Epoch 00019: val_loss did not improve\n",
      "Epoch 20/20\n",
      "25845/25845 [==============================] - 4s 172us/step - loss: 0.0012 - acc: 0.9996 - val_loss: 0.0130 - val_acc: 0.9972\n",
      "\n",
      "Epoch 00020: val_loss did not improve\n"
     ]
    }
   ],
   "source": [
    "checkpointer = ModelCheckpoint(filepath='./saved_models/weights.best.comb6_model2.hdf5', \n",
    "                               verbose=1, save_best_only=True)\n",
    "\n",
    "\n",
    "history = model.fit([resnet50_feature[0],inception_feature[0],xception_feature[0],densenet_feature[0],vgg16_feature[0],increstnet_feature[0]],\n",
    "          densenet_feature[1], epochs=20,batch_size=50, verbose=1, callbacks=[checkpointer], validation_split=0.2)"
   ]
  },
  {
   "cell_type": "code",
   "execution_count": 22,
   "metadata": {},
   "outputs": [
    {
     "data": {
      "image/png": "[encoded data removed]",
      "text/plain": [
       "<matplotlib.figure.Figure at 0x7f71d8a05b70>"
      ]
     },
     "metadata": {},
     "output_type": "display_data"
    }
   ],
   "source": [
    "import matplotlib.pyplot as plt\n",
    "\n",
    "plt.plot(history.history['acc'])\n",
    "plt.plot(history.history['val_acc'])\n",
    "plt.title('model accuracy')\n",
    "plt.ylabel('accuracy')\n",
    "plt.xlabel('epoch')\n",
    "plt.legend(['train', 'test'], loc='upper left')\n",
    "plt.show()"
   ]
  },
  {
   "cell_type": "code",
   "execution_count": 23,
   "metadata": {},
   "outputs": [
    {
     "data": {
      "image/png": "[encoded data removed]",
      "text/plain": [
       "<matplotlib.figure.Figure at 0x7f71ec092160>"
      ]
     },
     "metadata": {},
     "output_type": "display_data"
    }
   ],
   "source": [
    "# summarize history for loss\n",
    "plt.plot(history.history['loss'])\n",
    "plt.plot(history.history['val_loss'])\n",
    "plt.title('model loss')\n",
    "plt.ylabel('loss')\n",
    "plt.xlabel('epoch')\n",
    "plt.legend(['train', 'test'], loc='upper left')\n",
    "plt.show()"
   ]
  },
  {
   "cell_type": "code",
   "execution_count": 24,
   "metadata": {},
   "outputs": [
    {
     "name": "stdout",
     "output_type": "stream",
     "text": [
      "Found 12500 images belonging to 1 classes.\n"
     ]
    },
    {
     "name": "stderr",
     "output_type": "stream",
     "text": [
      "/home/kevin/Documents/anaconda3/envs/tf/lib/python3.6/site-packages/ipykernel_launcher.py:13: FutureWarning: set_value is deprecated and will be removed in a future release. Please use .at[] or .iat[] accessors instead\n",
      "  del sys.path[0]\n"
     ]
    }
   ],
   "source": [
    "model.load_weights(filepath='./saved_models/weights.best.comb6_model2.hdf5')\n",
    "\n",
    "model_pred = model.predict([resnet50_feature[2],inception_feature[2],xception_feature[2],densenet_feature[2],vgg16_feature[2],increstnet_feature[2]])\n",
    "\n",
    "pred = model_pred.clip(0.005,0.995)\n",
    "\n",
    "generate_test_prediction(pred, 'model2_comb6')"
   ]
  },
  {
   "cell_type": "code",
   "execution_count": null,
   "metadata": {},
   "outputs": [],
   "source": []
  }
 ],
 "metadata": {
  "kernelspec": {
   "display_name": "Python 3",
   "language": "python",
   "name": "python3"
  },
  "language_info": {
   "codemirror_mode": {
    "name": "ipython",
    "version": 3
   },
   "file_extension": ".py",
   "mimetype": "text/x-python",
   "name": "python",
   "nbconvert_exporter": "python",
   "pygments_lexer": "ipython3",
   "version": "3.6.2"
  }
 },
 "nbformat": 4,
 "nbformat_minor": 2
}
