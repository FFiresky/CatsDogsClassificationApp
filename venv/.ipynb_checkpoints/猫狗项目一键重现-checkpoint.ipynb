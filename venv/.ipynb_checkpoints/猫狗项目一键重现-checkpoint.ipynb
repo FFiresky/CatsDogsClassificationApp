{
 "cells": [
  {
   "cell_type": "markdown",
   "metadata": {},
   "source": [
    "# 数据准备"
   ]
  },
  {
   "cell_type": "code",
   "execution_count": 4,
   "metadata": {},
   "outputs": [],
   "source": [
    "import os\n",
    "import shutil\n",
    "from glob2 import glob\n",
    "import numpy as np\n"
   ]
  },
  {
   "cell_type": "code",
   "execution_count": 20,
   "metadata": {},
   "outputs": [],
   "source": [
    "fitered_set = set(np.load('cleaned_file_list.npy'))"
   ]
  },
  {
   "cell_type": "code",
   "execution_count": 21,
   "metadata": {},
   "outputs": [
    {
     "data": {
      "text/plain": [
       "29155"
      ]
     },
     "execution_count": 21,
     "metadata": {},
     "output_type": "execute_result"
    }
   ],
   "source": [
    "len(fitered_set)"
   ]
  },
  {
   "cell_type": "code",
   "execution_count": null,
   "metadata": {},
   "outputs": [],
   "source": [
    "if 'data' not in os.listdir():\n",
    "    os.mkdir('data/')\n",
    "    os.mkdir('data/train')\n",
    "    os.mkdir('data/train/cat')    \n",
    "    os.mkdir('data/train/dog')    \n",
    "    os.mkdir('data/test')    \n",
    "    os.mkdir('data/test/test')  \n",
    "    \n",
    "for path in glob('train/*'):\n",
    "    filename = path.split('/')[-1]\n",
    "    if filename in fitered_set:\n",
    "        if 'cat' in filename:\n",
    "            shutil.move(path, 'data/train/cat/')\n",
    "        else:\n",
    "            shutil.move(path, 'data/train/dog/')\n",
    "\n",
    "for path in glob('test/*.jpg'):\n",
    "    shutil.move(path, 'data/test/test/')\n",
    "\n",
    "    \n",
    "cap = re.compile('[A-Z]')\n",
    "\n",
    "for path in glob('images/*'):\n",
    "    if len(cap.findall(path)):\n",
    "        shutil.move(path, 'data/train/cat/')\n",
    "    else:\n",
    "        shutil.move(path, 'data/train/dog/')\n",
    "    \n"
   ]
  },
  {
   "cell_type": "markdown",
   "metadata": {},
   "source": [
    "# 特征提取"
   ]
  },
  {
   "cell_type": "code",
   "execution_count": 22,
   "metadata": {},
   "outputs": [],
   "source": [
    "from keras.applications import *\n",
    "from keras.preprocessing import image"
   ]
  },
  {
   "cell_type": "code",
   "execution_count": null,
   "metadata": {},
   "outputs": [],
   "source": [
    "# 加载预训练模型\n",
    "model_xception = Xception(weights='imagenet',include_top=False, pooling='avg')\n",
    "model_resnet50 = ResNet50(weights='imagenet',include_top=False, pooling='avg')\n",
    "model_vgg16 = VGG16(weights='imagenet',include_top=False, pooling='avg')\n",
    "model_inceptionv3 = InceptionV3(weights='imagenet', include_top=False, pooling='avg')\n",
    "model_incresnet = InceptionResNetV2(weights='imagenet', include_top=False, pooling='avg')\n",
    "model_dense = DenseNet201(weights='imagenet', include_top=False, pooling='avg')"
   ]
  },
  {
   "cell_type": "code",
   "execution_count": null,
   "metadata": {},
   "outputs": [],
   "source": [
    "# 通用图片特征提取器\n",
    "def get_bottleneck_feature(pretrain_model,model_name, datagen, img_size):\n",
    "    train_generator = datagen.flow_from_directory(\n",
    "            'data/train',\n",
    "            target_size=img_size,\n",
    "            batch_size=100,\n",
    "            shuffle=False,\n",
    "            class_mode='binary')\n",
    "    \n",
    "    test_generator = datagen.flow_from_directory(\n",
    "            'data/test',\n",
    "            target_size=img_size,\n",
    "            batch_size=50,\n",
    "            shuffle=False,\n",
    "            class_mode=None)\n",
    "\n",
    "    model = Model(pretrain_model.input, GlobalAveragePooling2D()(pretrain_model.output))\n",
    "    \n",
    "    train_data = model.predict_generator(train_generator, 292)\n",
    "    test_data = model.predict_generator(test_generator, 250)\n",
    "    with h5py.File(\"gap_{}.h5\".format(model_name)) as h:\n",
    "        h.create_dataset('train',data=train_data)\n",
    "        h.create_dataset('label_train',data=train_generator.classes)\n",
    "        h.create_dataset('test',data=test_data)"
   ]
  },
  {
   "cell_type": "code",
   "execution_count": null,
   "metadata": {},
   "outputs": [],
   "source": [
    "# 提取图片特征\n",
    "get_bottleneck_feature(model_xception,'xception',image.ImageDataGenerator(preprocessing_function=xception.preprocess_input),(299,299))\n",
    "get_bottleneck_feature(model_resnet50,'resnet50',image.ImageDataGenerator(preprocessing_function=resnet50.preprocess_input),(224,224))\n",
    "get_bottleneck_feature(model_vgg16,'vgg16',image.ImageDataGenerator(preprocessing_function=vgg16.preprocess_input),(224,224))\n",
    "get_bottleneck_feature(model_inceptionv3,'inception',image.ImageDataGenerator(preprocessing_function=inception_v3.preprocess_input),(299,299))\n",
    "get_bottleneck_feature(model_incresnet,'inception_resnet',image.ImageDataGenerator(preprocessing_function=inception_resnet_v2.preprocess_input),(299,299))\n",
    "get_bottleneck_feature(model_dense,'densenet',image.ImageDataGenerator(preprocessing_function=densenet.preprocess_input),(224,224))"
   ]
  }
 ],
 "metadata": {
  "kernelspec": {
   "display_name": "Python 3",
   "language": "python",
   "name": "python3"
  },
  "language_info": {
   "codemirror_mode": {
    "name": "ipython",
    "version": 3
   },
   "file_extension": ".py",
   "mimetype": "text/x-python",
   "name": "python",
   "nbconvert_exporter": "python",
   "pygments_lexer": "ipython3",
   "version": "3.6.2"
  }
 },
 "nbformat": 4,
 "nbformat_minor": 2
}
